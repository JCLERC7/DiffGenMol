{
 "cells": [
  {
   "cell_type": "markdown",
   "metadata": {},
   "source": [
    "## Optimised diffusion models 1D\n",
    "Notebook created by Frédéric Charbonnier & Joel Clerc as part of the Master IS research project \"Learning to generate\n",
    "molecules\".  \n",
    "This notebook uses [Phil Wang's GitHub](https://github.com/lucidrains/denoising-diffusion-pytorch) to implement a conditional and unconditional DDMPs.\n",
    "Inspired by [Nathan C. Frey's Tutorial](https://ncfrey.github.io/)."
   ]
  },
  {
   "cell_type": "markdown",
   "metadata": {},
   "source": [
    "### Diffusion model 1D with classifier guidance"
   ]
  },
  {
   "cell_type": "code",
   "execution_count": null,
   "metadata": {},
   "outputs": [],
   "source": [
    "# code from https://github.com/lucidrains/denoising-diffusion-pytorch/blob/main/denoising_diffusion_pytorch/denoising_diffusion_pytorch_1d.py\n",
    "# Classifier guidance added (inspired by https://github.com/lucidrains/denoising-diffusion-pytorch/blob/main/denoising_diffusion_pytorch/classifier_free_guidance.py)\n",
    "\n",
    "\n",
    "from pathlib import Path\n",
    "\n",
    "\n",
    "from multiprocessing import cpu_count\n",
    "\n",
    "\n",
    "\n",
    "import torch.nn.functional as F\n",
    "\n",
    "\n",
    "\n",
    "\n",
    "\n",
    "from einops.layers.torch import Rearrange\n",
    "\n",
    "from accelerate import Accelerator\n",
    "from ema_pytorch import EMA\n",
    "\n",
    "\n",
    "\n",
    "from denoising_diffusion_pytorch.version import __version__\n",
    "\n",
    "\n",
    "\n",
    "\n",
    "\n"
   ]
  },
  {
   "cell_type": "markdown",
   "metadata": {},
   "source": [
    "### Molecules functions"
   ]
  },
  {
   "cell_type": "code",
   "execution_count": null,
   "metadata": {},
   "outputs": [],
   "source": [
    "#!pip install --pre deepchem[torch]\n",
    "import deepchem as dc\n",
    "\n",
    "\n",
    "  \n",
    "\n",
    "\n",
    "\n",
    "import matplotlib.pyplot as plt\n",
    "\n",
    "\n",
    "\n"
   ]
  },
  {
   "cell_type": "code",
   "execution_count": null,
   "metadata": {},
   "outputs": [],
   "source": [
    "#Test get_selfies_list\n",
    "original_selfies = smiles_to_selfies(get_smiles())\n",
    "mol = Chem.MolFromSmiles(sf.decoder(original_selfies[2]))\n",
    "mol_img = Chem.Draw.MolToImage(mol,size=(300,300))\n",
    "plt.imshow(mol_img)"
   ]
  },
  {
   "cell_type": "code",
   "execution_count": null,
   "metadata": {},
   "outputs": [],
   "source": [
    "# Test Original Selfies -> continous_mols -> Recalculate Selfies\n",
    "continous_mols, selfies_alphabet, largest_selfie_len, int_mol, dequantized_onehots_min, dequantized_onehots_max = selfies_to_continous_mols(original_selfies)\n",
    "recalculate_selfies_test = mols_continous_to_selfies(continous_mols, selfies_alphabet, largest_selfie_len, int_mol, dequantized_onehots_min, dequantized_onehots_max)\n",
    "mols_test, valid_selfies_list, valid_count = selfies_to_mols(recalculate_selfies_test)\n",
    "print('%.2f' % (valid_count / len(mols_test)*100),  '% of generated samples are valid molecules.')\n",
    "\n",
    "smiles_label = [Chem.MolToSmiles(mol) for mol in mols_test[:9]]\n",
    "img = Chem.Draw.MolsToGridImage(mols_test[:9], molsPerRow=3, subImgSize=(200,200), returnPNG=False)\n",
    "img.save('results/test-functions.png')   \n",
    "\n",
    "#Similarity\n",
    "original_mols, _, _ = selfies_to_mols(original_selfies)\n",
    "tanimoto_scores = tanimoto_similarity(original_mols, mols_test[2])\n",
    "print(\"Top3 similarity score:\")\n",
    "for idx, ts in tanimoto_scores[:3]:\n",
    "    print(round(ts, 3))\n",
    "\n",
    "print(\"Weight:\")\n",
    "print(get_mols_properties([mols_test[2]],\"Weight\")[0])\n",
    "\n",
    "print(\"LogP:\")\n",
    "print(get_mols_properties([mols_test[2]],\"LogP\")[0])\n",
    "\n",
    "print(\"QED:\")\n",
    "print(get_mols_properties([mols_test[2]],\"QED\")[0])\n",
    "\n",
    "mol_img = Chem.Draw.MolToImage(mols_test[2],size=(300,300))\n",
    "plt.imshow(mol_img)"
   ]
  },
  {
   "cell_type": "markdown",
   "metadata": {},
   "source": [
    "### Training"
   ]
  },
  {
   "cell_type": "code",
   "execution_count": null,
   "metadata": {},
   "outputs": [],
   "source": []
  },
  {
   "cell_type": "code",
   "execution_count": null,
   "metadata": {},
   "outputs": [],
   "source": [
    "\n",
    "\n",
    "seq_length = dataset.shape[1]\n",
    "channels = 1\n",
    "batch_size = 16\n",
    "\n",
    "results_folder = Path(\"./results\")\n",
    "results_folder.mkdir(exist_ok = True)\n",
    "\n",
    "print(\"dataset size:\")\n",
    "print(dataset.shape)"
   ]
  },
  {
   "cell_type": "code",
   "execution_count": null,
   "metadata": {},
   "outputs": [],
   "source": [
    "print('Match classes : ', generate_mols_match_classes(original_mols, classes, type_property, num_classes, classes_breakpoints),'% de réussite')"
   ]
  },
  {
   "cell_type": "code",
   "execution_count": null,
   "metadata": {},
   "outputs": [],
   "source": [
    "save_and_sample_every = 5"
   ]
  },
  {
   "cell_type": "code",
   "execution_count": null,
   "metadata": {},
   "outputs": [],
   "source": []
  },
  {
   "cell_type": "code",
   "execution_count": null,
   "metadata": {},
   "outputs": [],
   "source": []
  },
  {
   "cell_type": "code",
   "execution_count": null,
   "metadata": {},
   "outputs": [],
   "source": []
  },
  {
   "cell_type": "code",
   "execution_count": null,
   "metadata": {},
   "outputs": [],
   "source": []
  },
  {
   "cell_type": "code",
   "execution_count": null,
   "metadata": {},
   "outputs": [],
   "source": [
    "sampled_images = diffusion.sample(\n",
    "    classes = image_classes,\n",
    "    cond_scale = 6.                # condition scaling, anything greater than 1 strengthens the classifier free guidance. reportedly 3-8 is good empirically\n",
    ")\n",
    "\n",
    "sampled_images.shape # (8, 3, 128, 128)\n",
    "\n",
    "# interpolation\n",
    "\n",
    "interpolate_out = diffusion.interpolate(\n",
    "    training_images[:1],\n",
    "    training_images[:1],\n",
    "    image_classes[:1]\n",
    ")"
   ]
  }
 ],
 "metadata": {
  "kernelspec": {
   "display_name": "Python 3",
   "language": "python",
   "name": "python3"
  },
  "language_info": {
   "codemirror_mode": {
    "name": "ipython",
    "version": 3
   },
   "file_extension": ".py",
   "mimetype": "text/x-python",
   "name": "python",
   "nbconvert_exporter": "python",
   "pygments_lexer": "ipython3",
   "version": "3.11.2"
  }
 },
 "nbformat": 4,
 "nbformat_minor": 2
}
